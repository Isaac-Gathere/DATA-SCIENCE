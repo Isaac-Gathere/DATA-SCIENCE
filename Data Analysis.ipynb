{
  "nbformat": 4,
  "nbformat_minor": 0,
  "metadata": {
    "colab": {
      "provenance": [],
      "authorship_tag": "ABX9TyMuqy+lyNe5BhyLE/JVvB0Q",
      "include_colab_link": true
    },
    "kernelspec": {
      "name": "python3",
      "display_name": "Python 3"
    },
    "language_info": {
      "name": "python"
    }
  },
  "cells": [
    {
      "cell_type": "markdown",
      "metadata": {
        "id": "view-in-github",
        "colab_type": "text"
      },
      "source": [
        "<a href=\"https://colab.research.google.com/github/Isaac-Gathere/DATA-SCIENCE/blob/main/Data%20Analysis.ipynb\" target=\"_parent\"><img src=\"https://colab.research.google.com/assets/colab-badge.svg\" alt=\"Open In Colab\"/></a>"
      ]
    },
    {
      "cell_type": "markdown",
      "source": [
        "**Project on Global SuperStore Data**"
      ],
      "metadata": {
        "id": "eOZUOsPaBCsD"
      }
    },
    {
      "cell_type": "code",
      "source": [
        "import pandas as pd\n",
        "import numpy as np\n"
      ],
      "metadata": {
        "id": "5YxZkL4xA_6N"
      },
      "execution_count": 23,
      "outputs": []
    },
    {
      "cell_type": "code",
      "source": [
        "pd.set_option ('display.min_row',1000)\n",
        "pd.set_option ('display.max_columns',50)\n",
        "pd.set_option ('display.max_colwidth',1000)\n",
        "\n"
      ],
      "metadata": {
        "id": "rQnxv-pwBsPO"
      },
      "execution_count": 24,
      "outputs": []
    },
    {
      "cell_type": "code",
      "source": [
        "data_df = pd.read_csv('/content/global_superstore_2016.csv',encoding = 'latin1')"
      ],
      "metadata": {
        "id": "6DUEFTGCDzQk"
      },
      "execution_count": 25,
      "outputs": []
    },
    {
      "cell_type": "code",
      "source": [
        "data_df.describe ()\n"
      ],
      "metadata": {
        "colab": {
          "base_uri": "https://localhost:8080/",
          "height": 300
        },
        "id": "fkU603NsEbI0",
        "outputId": "c181a818-5381-418c-de1c-e2179a4582e0"
      },
      "execution_count": 26,
      "outputs": [
        {
          "output_type": "execute_result",
          "data": {
            "text/plain": [
              "             Row ID   Postal Code      Quantity      Discount  Shipping Cost\n",
              "count  12254.000000   2087.000000  12253.000000  12253.000000   12253.000000\n",
              "mean   23929.774604  54671.545759      4.384232      0.109656      75.603073\n",
              "std    13676.683875  32710.364475      2.522848      0.170637      88.764426\n",
              "min        8.000000   1841.000000      1.000000      0.000000       1.040000\n",
              "25%    12943.750000  21044.000000      2.000000      0.000000      30.300000\n",
              "50%    23255.500000  59405.000000      4.000000      0.000000      47.670000\n",
              "75%    34300.750000  90008.000000      6.000000      0.200000      86.898000\n",
              "max    51284.000000  99207.000000     14.000000      0.850000     923.630000"
            ],
            "text/html": [
              "\n",
              "  <div id=\"df-a8c7efe3-2da5-42fd-b763-43510e25a692\">\n",
              "    <div class=\"colab-df-container\">\n",
              "      <div>\n",
              "<style scoped>\n",
              "    .dataframe tbody tr th:only-of-type {\n",
              "        vertical-align: middle;\n",
              "    }\n",
              "\n",
              "    .dataframe tbody tr th {\n",
              "        vertical-align: top;\n",
              "    }\n",
              "\n",
              "    .dataframe thead th {\n",
              "        text-align: right;\n",
              "    }\n",
              "</style>\n",
              "<table border=\"1\" class=\"dataframe\">\n",
              "  <thead>\n",
              "    <tr style=\"text-align: right;\">\n",
              "      <th></th>\n",
              "      <th>Row ID</th>\n",
              "      <th>Postal Code</th>\n",
              "      <th>Quantity</th>\n",
              "      <th>Discount</th>\n",
              "      <th>Shipping Cost</th>\n",
              "    </tr>\n",
              "  </thead>\n",
              "  <tbody>\n",
              "    <tr>\n",
              "      <th>count</th>\n",
              "      <td>12254.000000</td>\n",
              "      <td>2087.000000</td>\n",
              "      <td>12253.000000</td>\n",
              "      <td>12253.000000</td>\n",
              "      <td>12253.000000</td>\n",
              "    </tr>\n",
              "    <tr>\n",
              "      <th>mean</th>\n",
              "      <td>23929.774604</td>\n",
              "      <td>54671.545759</td>\n",
              "      <td>4.384232</td>\n",
              "      <td>0.109656</td>\n",
              "      <td>75.603073</td>\n",
              "    </tr>\n",
              "    <tr>\n",
              "      <th>std</th>\n",
              "      <td>13676.683875</td>\n",
              "      <td>32710.364475</td>\n",
              "      <td>2.522848</td>\n",
              "      <td>0.170637</td>\n",
              "      <td>88.764426</td>\n",
              "    </tr>\n",
              "    <tr>\n",
              "      <th>min</th>\n",
              "      <td>8.000000</td>\n",
              "      <td>1841.000000</td>\n",
              "      <td>1.000000</td>\n",
              "      <td>0.000000</td>\n",
              "      <td>1.040000</td>\n",
              "    </tr>\n",
              "    <tr>\n",
              "      <th>25%</th>\n",
              "      <td>12943.750000</td>\n",
              "      <td>21044.000000</td>\n",
              "      <td>2.000000</td>\n",
              "      <td>0.000000</td>\n",
              "      <td>30.300000</td>\n",
              "    </tr>\n",
              "    <tr>\n",
              "      <th>50%</th>\n",
              "      <td>23255.500000</td>\n",
              "      <td>59405.000000</td>\n",
              "      <td>4.000000</td>\n",
              "      <td>0.000000</td>\n",
              "      <td>47.670000</td>\n",
              "    </tr>\n",
              "    <tr>\n",
              "      <th>75%</th>\n",
              "      <td>34300.750000</td>\n",
              "      <td>90008.000000</td>\n",
              "      <td>6.000000</td>\n",
              "      <td>0.200000</td>\n",
              "      <td>86.898000</td>\n",
              "    </tr>\n",
              "    <tr>\n",
              "      <th>max</th>\n",
              "      <td>51284.000000</td>\n",
              "      <td>99207.000000</td>\n",
              "      <td>14.000000</td>\n",
              "      <td>0.850000</td>\n",
              "      <td>923.630000</td>\n",
              "    </tr>\n",
              "  </tbody>\n",
              "</table>\n",
              "</div>\n",
              "      <button class=\"colab-df-convert\" onclick=\"convertToInteractive('df-a8c7efe3-2da5-42fd-b763-43510e25a692')\"\n",
              "              title=\"Convert this dataframe to an interactive table.\"\n",
              "              style=\"display:none;\">\n",
              "        \n",
              "  <svg xmlns=\"http://www.w3.org/2000/svg\" height=\"24px\"viewBox=\"0 0 24 24\"\n",
              "       width=\"24px\">\n",
              "    <path d=\"M0 0h24v24H0V0z\" fill=\"none\"/>\n",
              "    <path d=\"M18.56 5.44l.94 2.06.94-2.06 2.06-.94-2.06-.94-.94-2.06-.94 2.06-2.06.94zm-11 1L8.5 8.5l.94-2.06 2.06-.94-2.06-.94L8.5 2.5l-.94 2.06-2.06.94zm10 10l.94 2.06.94-2.06 2.06-.94-2.06-.94-.94-2.06-.94 2.06-2.06.94z\"/><path d=\"M17.41 7.96l-1.37-1.37c-.4-.4-.92-.59-1.43-.59-.52 0-1.04.2-1.43.59L10.3 9.45l-7.72 7.72c-.78.78-.78 2.05 0 2.83L4 21.41c.39.39.9.59 1.41.59.51 0 1.02-.2 1.41-.59l7.78-7.78 2.81-2.81c.8-.78.8-2.07 0-2.86zM5.41 20L4 18.59l7.72-7.72 1.47 1.35L5.41 20z\"/>\n",
              "  </svg>\n",
              "      </button>\n",
              "      \n",
              "  <style>\n",
              "    .colab-df-container {\n",
              "      display:flex;\n",
              "      flex-wrap:wrap;\n",
              "      gap: 12px;\n",
              "    }\n",
              "\n",
              "    .colab-df-convert {\n",
              "      background-color: #E8F0FE;\n",
              "      border: none;\n",
              "      border-radius: 50%;\n",
              "      cursor: pointer;\n",
              "      display: none;\n",
              "      fill: #1967D2;\n",
              "      height: 32px;\n",
              "      padding: 0 0 0 0;\n",
              "      width: 32px;\n",
              "    }\n",
              "\n",
              "    .colab-df-convert:hover {\n",
              "      background-color: #E2EBFA;\n",
              "      box-shadow: 0px 1px 2px rgba(60, 64, 67, 0.3), 0px 1px 3px 1px rgba(60, 64, 67, 0.15);\n",
              "      fill: #174EA6;\n",
              "    }\n",
              "\n",
              "    [theme=dark] .colab-df-convert {\n",
              "      background-color: #3B4455;\n",
              "      fill: #D2E3FC;\n",
              "    }\n",
              "\n",
              "    [theme=dark] .colab-df-convert:hover {\n",
              "      background-color: #434B5C;\n",
              "      box-shadow: 0px 1px 3px 1px rgba(0, 0, 0, 0.15);\n",
              "      filter: drop-shadow(0px 1px 2px rgba(0, 0, 0, 0.3));\n",
              "      fill: #FFFFFF;\n",
              "    }\n",
              "  </style>\n",
              "\n",
              "      <script>\n",
              "        const buttonEl =\n",
              "          document.querySelector('#df-a8c7efe3-2da5-42fd-b763-43510e25a692 button.colab-df-convert');\n",
              "        buttonEl.style.display =\n",
              "          google.colab.kernel.accessAllowed ? 'block' : 'none';\n",
              "\n",
              "        async function convertToInteractive(key) {\n",
              "          const element = document.querySelector('#df-a8c7efe3-2da5-42fd-b763-43510e25a692');\n",
              "          const dataTable =\n",
              "            await google.colab.kernel.invokeFunction('convertToInteractive',\n",
              "                                                     [key], {});\n",
              "          if (!dataTable) return;\n",
              "\n",
              "          const docLinkHtml = 'Like what you see? Visit the ' +\n",
              "            '<a target=\"_blank\" href=https://colab.research.google.com/notebooks/data_table.ipynb>data table notebook</a>'\n",
              "            + ' to learn more about interactive tables.';\n",
              "          element.innerHTML = '';\n",
              "          dataTable['output_type'] = 'display_data';\n",
              "          await google.colab.output.renderOutput(dataTable, element);\n",
              "          const docLink = document.createElement('div');\n",
              "          docLink.innerHTML = docLinkHtml;\n",
              "          element.appendChild(docLink);\n",
              "        }\n",
              "      </script>\n",
              "    </div>\n",
              "  </div>\n",
              "  "
            ]
          },
          "metadata": {},
          "execution_count": 26
        }
      ]
    },
    {
      "cell_type": "code",
      "source": [
        "data_df.info()"
      ],
      "metadata": {
        "colab": {
          "base_uri": "https://localhost:8080/"
        },
        "id": "MLKIcGLpEbO9",
        "outputId": "637f12fe-b949-4724-9bc6-6781dc695d5c"
      },
      "execution_count": 27,
      "outputs": [
        {
          "output_type": "stream",
          "name": "stdout",
          "text": [
            "<class 'pandas.core.frame.DataFrame'>\n",
            "RangeIndex: 12254 entries, 0 to 12253\n",
            "Data columns (total 24 columns):\n",
            " #   Column          Non-Null Count  Dtype  \n",
            "---  ------          --------------  -----  \n",
            " 0   Row ID          12254 non-null  int64  \n",
            " 1   Order ID        12254 non-null  object \n",
            " 2   Order Date      12254 non-null  object \n",
            " 3   Ship Date       12253 non-null  object \n",
            " 4   Ship Mode       12253 non-null  object \n",
            " 5   Customer ID     12253 non-null  object \n",
            " 6   Customer Name   12253 non-null  object \n",
            " 7   Segment         12253 non-null  object \n",
            " 8   Postal Code     2087 non-null   float64\n",
            " 9   City            12253 non-null  object \n",
            " 10  State           12253 non-null  object \n",
            " 11  Country         12253 non-null  object \n",
            " 12  Region          12253 non-null  object \n",
            " 13  Market          12253 non-null  object \n",
            " 14  Product ID      12253 non-null  object \n",
            " 15  Category        12253 non-null  object \n",
            " 16  Sub-Category    12253 non-null  object \n",
            " 17  Product Name    12253 non-null  object \n",
            " 18  Sales           12253 non-null  object \n",
            " 19  Quantity        12253 non-null  float64\n",
            " 20  Discount        12253 non-null  float64\n",
            " 21  Profit          12253 non-null  object \n",
            " 22  Shipping Cost   12253 non-null  float64\n",
            " 23  Order Priority  12253 non-null  object \n",
            "dtypes: float64(4), int64(1), object(19)\n",
            "memory usage: 2.2+ MB\n"
          ]
        }
      ]
    },
    {
      "cell_type": "code",
      "source": [
        "# Converting the column Order Date and ship date to a datetime object\n",
        "order_date = data_df['Order Date'].tolist()\n",
        "ship_date = data_df['Ship Date'].tolist()\n",
        "\n"
      ],
      "metadata": {
        "id": "X0qGTQg4EbWR"
      },
      "execution_count": 28,
      "outputs": []
    },
    {
      "cell_type": "code",
      "source": [
        "order_datetime = pd.to_datetime (order_date)\n",
        "order_datetime\n"
      ],
      "metadata": {
        "colab": {
          "base_uri": "https://localhost:8080/"
        },
        "id": "yFTJk0KmH867",
        "outputId": "256680e6-1506-4bae-e2a9-dd9c50cf92a5"
      },
      "execution_count": 29,
      "outputs": [
        {
          "output_type": "execute_result",
          "data": {
            "text/plain": [
              "DatetimeIndex(['2014-11-11', '2014-02-05', '2014-10-17', '2014-01-28',\n",
              "               '2014-11-05', '2014-06-28', '2012-11-06', '2013-04-14',\n",
              "               '2014-11-11', '2012-03-06',\n",
              "               ...\n",
              "               '2013-10-29', '2014-06-07', '2012-09-20', '2015-02-24',\n",
              "               '2015-11-07', '2014-06-07', '2014-09-20', '2012-08-10',\n",
              "               '2015-05-03', '2014-09-30'],\n",
              "              dtype='datetime64[ns]', length=12254, freq=None)"
            ]
          },
          "metadata": {},
          "execution_count": 29
        }
      ]
    },
    {
      "cell_type": "code",
      "source": [
        "ship_datetime = pd.to_datetime(ship_date)\n",
        "ship_datetime"
      ],
      "metadata": {
        "colab": {
          "base_uri": "https://localhost:8080/"
        },
        "id": "Eo78DzoUJWqh",
        "outputId": "9b713a58-995d-4fdf-f4c7-13c1118291bb"
      },
      "execution_count": 30,
      "outputs": [
        {
          "output_type": "execute_result",
          "data": {
            "text/plain": [
              "DatetimeIndex(['2014-11-13', '2014-02-07', '2014-10-18', '2014-01-30',\n",
              "               '2014-11-06', '2014-07-01', '2012-11-08', '2013-04-18',\n",
              "               '2014-11-13', '2012-03-07',\n",
              "               ...\n",
              "               '2013-11-03', '2014-06-08', '2012-09-20', '2015-03-02',\n",
              "               '2015-11-12', '2014-06-08', '2014-09-22', '2012-08-13',\n",
              "               '2015-05-03',        'NaT'],\n",
              "              dtype='datetime64[ns]', length=12254, freq=None)"
            ]
          },
          "metadata": {},
          "execution_count": 30
        }
      ]
    },
    {
      "cell_type": "code",
      "source": [
        "# converting datetime to series objects\n",
        "order_date = pd.Series(order_datetime,name='Order Date')\n",
        "# order_date\n",
        "ship_date = pd.Series(ship_datetime,name='Ship Date')"
      ],
      "metadata": {
        "id": "zpVej71KKMTE"
      },
      "execution_count": 31,
      "outputs": []
    },
    {
      "cell_type": "code",
      "source": [
        "data_df.columns.values"
      ],
      "metadata": {
        "colab": {
          "base_uri": "https://localhost:8080/"
        },
        "id": "0A-hCLUqMLl4",
        "outputId": "6460a1d3-51d0-4eb4-8a7b-fc6835002458"
      },
      "execution_count": 32,
      "outputs": [
        {
          "output_type": "execute_result",
          "data": {
            "text/plain": [
              "array(['Row ID', 'Order ID', 'Order Date', 'Ship Date', 'Ship Mode',\n",
              "       'Customer ID', 'Customer Name', 'Segment', 'Postal Code', 'City',\n",
              "       'State', 'Country', 'Region', 'Market', 'Product ID', 'Category',\n",
              "       'Sub-Category', 'Product Name', 'Sales', 'Quantity', 'Discount',\n",
              "       'Profit', 'Shipping Cost', 'Order Priority'], dtype=object)"
            ]
          },
          "metadata": {},
          "execution_count": 32
        }
      ]
    },
    {
      "cell_type": "code",
      "source": [
        "# droping unwanted columns\n",
        "data_df.drop(columns =['Row ID','Order Date','Ship Date', 'Customer ID', 'Postal Code'], inplace = True)\n"
      ],
      "metadata": {
        "id": "mYGITJG6MoMC"
      },
      "execution_count": 33,
      "outputs": []
    },
    {
      "cell_type": "code",
      "source": [
        "global_data = pd.concat([data_df, order_date, ship_date], axis = 1)\n",
        "\n"
      ],
      "metadata": {
        "id": "ComnUs1uOYgS"
      },
      "execution_count": 34,
      "outputs": []
    },
    {
      "cell_type": "code",
      "source": [
        "global_data = global_data.reindex(columns=['Row ID', 'Order ID', 'Order Date', 'Ship Date', 'Ship Mode',\n",
        "       'Customer ID', 'Customer Name', 'Segment', 'Postal Code', 'City',\n",
        "       'State', 'Country', 'Region', 'Market', 'Product ID', 'Category',\n",
        "       'Sub-Category', 'Product Name', 'Sales', 'Quantity', 'Discount',\n",
        "       'Profit', 'Shipping Cost', 'Order Priority'])\n"
      ],
      "metadata": {
        "id": "tp72P6T0RgUg"
      },
      "execution_count": 35,
      "outputs": []
    },
    {
      "cell_type": "code",
      "source": [
        "if global_data['Sales'].str.contains('$').any ():\n",
        "  print(\"Yes: $ Symbol is Present in the Column Sales\")\n"
      ],
      "metadata": {
        "colab": {
          "base_uri": "https://localhost:8080/"
        },
        "id": "UeCKt7YOTXyt",
        "outputId": "a97a6a73-d6cd-46f1-b24f-17f75f273dae"
      },
      "execution_count": 36,
      "outputs": [
        {
          "output_type": "stream",
          "name": "stdout",
          "text": [
            "Yes: $ Symbol is Present in the Column Sales\n"
          ]
        }
      ]
    },
    {
      "cell_type": "code",
      "source": [
        "if global_data['Profit'].str.contains('$').any ():\n",
        "  print(\"Yes: $ Symbol is Present in the Profit \")"
      ],
      "metadata": {
        "colab": {
          "base_uri": "https://localhost:8080/"
        },
        "id": "mpErrc-WUV-M",
        "outputId": "3301194d-f4f1-488d-ab7d-ebe472ab454d"
      },
      "execution_count": 37,
      "outputs": [
        {
          "output_type": "stream",
          "name": "stdout",
          "text": [
            "Yes: $ Symbol is Present in the Profit \n"
          ]
        }
      ]
    },
    {
      "cell_type": "code",
      "source": [
        "# clean the columns\n",
        "global_data['Sales'] = global_data ['Sales'].str.replace(',', '', regex = True)\n",
        "global_data['Sales'][:10]"
      ],
      "metadata": {
        "colab": {
          "base_uri": "https://localhost:8080/"
        },
        "id": "ZD3PizDOVA70",
        "outputId": "bc1a83b5-93fa-4413-9912-f895ba83c350"
      },
      "execution_count": 43,
      "outputs": [
        {
          "output_type": "execute_result",
          "data": {
            "text/plain": [
              "0     $221.98 \n",
              "1    $3709.40 \n",
              "2    $5175.17 \n",
              "3    $2892.51 \n",
              "4    $2832.96 \n",
              "5    $2862.68 \n",
              "6    $1822.08 \n",
              "7    $5244.84 \n",
              "8     $341.96 \n",
              "9      $48.71 \n",
              "Name: Sales, dtype: object"
            ]
          },
          "metadata": {},
          "execution_count": 43
        }
      ]
    },
    {
      "cell_type": "code",
      "source": [
        "global_data['Sales'] = global_data['Sales'].str.replace('$','',regex=True)\n",
        "global_data['Sales'][:10]\n",
        "\n"
      ],
      "metadata": {
        "colab": {
          "base_uri": "https://localhost:8080/"
        },
        "id": "bE-e5CpiioXx",
        "outputId": "bb8c06cf-c694-4872-e2c7-fada050babc0"
      },
      "execution_count": 44,
      "outputs": [
        {
          "output_type": "execute_result",
          "data": {
            "text/plain": [
              "0     221.98 \n",
              "1    3709.40 \n",
              "2    5175.17 \n",
              "3    2892.51 \n",
              "4    2832.96 \n",
              "5    2862.68 \n",
              "6    1822.08 \n",
              "7    5244.84 \n",
              "8     341.96 \n",
              "9      48.71 \n",
              "Name: Sales, dtype: object"
            ]
          },
          "metadata": {},
          "execution_count": 44
        }
      ]
    },
    {
      "cell_type": "code",
      "source": [
        "global_data['Profit'] = global_data ['Profit'].str.replace(',', '', regex = True)\n",
        "global_data['Profit'][:10]"
      ],
      "metadata": {
        "colab": {
          "base_uri": "https://localhost:8080/"
        },
        "id": "A63wyvPmkzif",
        "outputId": "96feea73-590c-46e5-9df8-1e2bec3f6fb5"
      },
      "execution_count": 45,
      "outputs": [
        {
          "output_type": "execute_result",
          "data": {
            "text/plain": [
              "0      $62.15 \n",
              "1    ($288.77)\n",
              "2     $919.97 \n",
              "3     ($96.54)\n",
              "4     $311.52 \n",
              "5     $763.28 \n",
              "6     $564.84 \n",
              "7     $996.48 \n",
              "8      $54.71 \n",
              "9       $5.48 \n",
              "Name: Profit, dtype: object"
            ]
          },
          "metadata": {},
          "execution_count": 45
        }
      ]
    },
    {
      "cell_type": "code",
      "source": [
        "global_data['Profit'] = global_data ['Profit'].str.replace('$', '', regex = True)\n",
        "global_data['Profit'][:10]"
      ],
      "metadata": {
        "colab": {
          "base_uri": "https://localhost:8080/"
        },
        "id": "Jfn7x_RWk7-U",
        "outputId": "2d0d2ba5-ad88-456c-fed0-ab84fd094aea"
      },
      "execution_count": 46,
      "outputs": [
        {
          "output_type": "execute_result",
          "data": {
            "text/plain": [
              "0      62.15 \n",
              "1    (288.77)\n",
              "2     919.97 \n",
              "3     (96.54)\n",
              "4     311.52 \n",
              "5     763.28 \n",
              "6     564.84 \n",
              "7     996.48 \n",
              "8      54.71 \n",
              "9       5.48 \n",
              "Name: Profit, dtype: object"
            ]
          },
          "metadata": {},
          "execution_count": 46
        }
      ]
    },
    {
      "cell_type": "code",
      "source": [
        "global_data['Profit'] = global_data ['Profit'].str.replace('(', '', regex = True)\n",
        "global_data['Profit'][:10]"
      ],
      "metadata": {
        "colab": {
          "base_uri": "https://localhost:8080/"
        },
        "id": "bZDktNbJlD4p",
        "outputId": "45ae6018-b37d-47ee-d613-bfb4576d91f7"
      },
      "execution_count": 47,
      "outputs": [
        {
          "output_type": "execute_result",
          "data": {
            "text/plain": [
              "0     62.15 \n",
              "1    288.77)\n",
              "2    919.97 \n",
              "3     96.54)\n",
              "4    311.52 \n",
              "5    763.28 \n",
              "6    564.84 \n",
              "7    996.48 \n",
              "8     54.71 \n",
              "9      5.48 \n",
              "Name: Profit, dtype: object"
            ]
          },
          "metadata": {},
          "execution_count": 47
        }
      ]
    },
    {
      "cell_type": "code",
      "source": [
        "global_data['Profit'] = global_data ['Profit'].str.replace(')', '', regex = True)\n",
        "global_data['Profit'][:10]"
      ],
      "metadata": {
        "colab": {
          "base_uri": "https://localhost:8080/"
        },
        "id": "VGwGNIO4lOS4",
        "outputId": "2c1cd4a1-d029-41d1-8940-56200f9469b0"
      },
      "execution_count": 48,
      "outputs": [
        {
          "output_type": "execute_result",
          "data": {
            "text/plain": [
              "0     62.15 \n",
              "1     288.77\n",
              "2    919.97 \n",
              "3      96.54\n",
              "4    311.52 \n",
              "5    763.28 \n",
              "6    564.84 \n",
              "7    996.48 \n",
              "8     54.71 \n",
              "9      5.48 \n",
              "Name: Profit, dtype: object"
            ]
          },
          "metadata": {},
          "execution_count": 48
        }
      ]
    },
    {
      "cell_type": "code",
      "source": [
        "global_data['Profit'] = pd.to_numeric(global_data['Profit'], downcast = 'signed')\n",
        "global_data['Profit'][:10]"
      ],
      "metadata": {
        "colab": {
          "base_uri": "https://localhost:8080/"
        },
        "id": "P06CsDwylSx3",
        "outputId": "99af81dd-d47b-4443-f58a-0abef555a4c2"
      },
      "execution_count": 49,
      "outputs": [
        {
          "output_type": "execute_result",
          "data": {
            "text/plain": [
              "0     62.15\n",
              "1    288.77\n",
              "2    919.97\n",
              "3     96.54\n",
              "4    311.52\n",
              "5    763.28\n",
              "6    564.84\n",
              "7    996.48\n",
              "8     54.71\n",
              "9      5.48\n",
              "Name: Profit, dtype: float64"
            ]
          },
          "metadata": {},
          "execution_count": 49
        }
      ]
    },
    {
      "cell_type": "code",
      "source": [
        "global_data['Sales'] = pd.to_numeric(global_data['Sales'], downcast = 'integer')\n",
        "global_data['Sales'][:10]"
      ],
      "metadata": {
        "colab": {
          "base_uri": "https://localhost:8080/"
        },
        "id": "wpyC0uKlmV4z",
        "outputId": "15d5655f-1a9c-42ec-b9ae-c6bc483ee5e9"
      },
      "execution_count": 50,
      "outputs": [
        {
          "output_type": "execute_result",
          "data": {
            "text/plain": [
              "0     221.98\n",
              "1    3709.40\n",
              "2    5175.17\n",
              "3    2892.51\n",
              "4    2832.96\n",
              "5    2862.68\n",
              "6    1822.08\n",
              "7    5244.84\n",
              "8     341.96\n",
              "9      48.71\n",
              "Name: Sales, dtype: float64"
            ]
          },
          "metadata": {},
          "execution_count": 50
        }
      ]
    },
    {
      "cell_type": "markdown",
      "source": [
        "# First Question to be answered\n",
        "# shipping cost above 500\n"
      ],
      "metadata": {
        "id": "U-PswAhUo00j"
      }
    },
    {
      "cell_type": "code",
      "source": [
        "condition1 = (global_data['Shipping Cost'] > 500.00 )\n",
        "# condition1\n",
        "shipping_500 = global_data[condition1]\n",
        "len(shipping_500)\n"
      ],
      "metadata": {
        "colab": {
          "base_uri": "https://localhost:8080/"
        },
        "id": "cDRSXRQto6hH",
        "outputId": "deac2c7e-9834-477e-9cec-32cfef278ec7"
      },
      "execution_count": 55,
      "outputs": [
        {
          "output_type": "execute_result",
          "data": {
            "text/plain": [
              "97"
            ]
          },
          "metadata": {},
          "execution_count": 55
        }
      ]
    },
    {
      "cell_type": "markdown",
      "source": [
        "## Count the number of segments, countries, regions, markets, categories, and sub categories present in the data"
      ],
      "metadata": {
        "id": "Vq7byrtHqekm"
      }
    },
    {
      "cell_type": "code",
      "source": [
        "# the number of segments\n",
        "global_data['Segment'].value_counts()"
      ],
      "metadata": {
        "colab": {
          "base_uri": "https://localhost:8080/"
        },
        "id": "vTT4FiS8quk4",
        "outputId": "ab49edf8-8c32-4c2d-cecd-0014d27a7793"
      },
      "execution_count": 58,
      "outputs": [
        {
          "output_type": "execute_result",
          "data": {
            "text/plain": [
              "Consumer       6392\n",
              "Corporate      3692\n",
              "Home Office    2169\n",
              "Name: Segment, dtype: int64"
            ]
          },
          "metadata": {},
          "execution_count": 58
        }
      ]
    },
    {
      "cell_type": "code",
      "source": [
        "# Country\n",
        "len (global_data['Country'].value_counts())"
      ],
      "metadata": {
        "colab": {
          "base_uri": "https://localhost:8080/"
        },
        "id": "UQAKfDuUrCff",
        "outputId": "f4ada13c-3fd7-40af-849a-8217057a621f"
      },
      "execution_count": 61,
      "outputs": [
        {
          "output_type": "execute_result",
          "data": {
            "text/plain": [
              "149"
            ]
          },
          "metadata": {},
          "execution_count": 61
        }
      ]
    },
    {
      "cell_type": "code",
      "source": [
        "# Region\n",
        "\n",
        "print(global_data['Region'].value_counts())"
      ],
      "metadata": {
        "colab": {
          "base_uri": "https://localhost:8080/"
        },
        "id": "rX816llBrxq7",
        "outputId": "2347f786-d857-48ad-8c89-327e3af3d621"
      },
      "execution_count": 64,
      "outputs": [
        {
          "output_type": "stream",
          "name": "stdout",
          "text": [
            "Western Europe       1734\n",
            "Central America      1249\n",
            "Oceania              1037\n",
            "Southeastern Asia     842\n",
            "Eastern Asia          813\n",
            "Southern Asia         761\n",
            "Western US            681\n",
            "South America         675\n",
            "Eastern US            635\n",
            "Southern Europe       604\n",
            "Northern Europe       604\n",
            "Central US            453\n",
            "Caribbean             373\n",
            "Southern US           318\n",
            "Eastern Europe        314\n",
            "Western Asia          306\n",
            "North Africa          227\n",
            "Western Africa        168\n",
            "Central Africa        143\n",
            "Eastern Africa        124\n",
            "Southern Africa       109\n",
            "Canada                 63\n",
            "Central Asia           20\n",
            "Name: Region, dtype: int64\n"
          ]
        }
      ]
    },
    {
      "cell_type": "code",
      "source": [
        "print(len(global_data['Region'].value_counts()))"
      ],
      "metadata": {
        "id": "hzAbgHxOsQPO"
      },
      "execution_count": null,
      "outputs": []
    },
    {
      "cell_type": "code",
      "source": [
        "# Market\n",
        "\n",
        "print(global_data['Market'].value_counts())"
      ],
      "metadata": {
        "colab": {
          "base_uri": "https://localhost:8080/"
        },
        "id": "aeRKxQFdstdd",
        "outputId": "5e5efb87-e2d3-4d70-b9cf-aca40c7f97f0"
      },
      "execution_count": 66,
      "outputs": [
        {
          "output_type": "stream",
          "name": "stdout",
          "text": [
            "Asia Pacific    3779\n",
            "Europe          3256\n",
            "LATAM           2297\n",
            "USCA            2150\n",
            "Africa           771\n",
            "Name: Market, dtype: int64\n"
          ]
        }
      ]
    },
    {
      "cell_type": "code",
      "source": [
        "print(len((global_data['Market'].value_counts())))"
      ],
      "metadata": {
        "colab": {
          "base_uri": "https://localhost:8080/"
        },
        "id": "E5wSHL0JsyQV",
        "outputId": "b90c6eed-20c2-4b42-dab2-788a6d33ba61"
      },
      "execution_count": 68,
      "outputs": [
        {
          "output_type": "stream",
          "name": "stdout",
          "text": [
            "5\n"
          ]
        }
      ]
    },
    {
      "cell_type": "code",
      "source": [
        "# Category\n",
        "print(((global_data['Category'].value_counts())))\n",
        "\n",
        "print(\"total category is \", (len((global_data['Category'].value_counts()))))\n"
      ],
      "metadata": {
        "colab": {
          "base_uri": "https://localhost:8080/"
        },
        "id": "q9jlAVDfs74D",
        "outputId": "23cb19d5-e723-41a2-a219-a91329353c5d"
      },
      "execution_count": 71,
      "outputs": [
        {
          "output_type": "stream",
          "name": "stdout",
          "text": [
            "Technology         4400\n",
            "Office Supplies    3952\n",
            "Furniture          3901\n",
            "Name: Category, dtype: int64\n",
            "total category is  3\n"
          ]
        }
      ]
    },
    {
      "cell_type": "code",
      "source": [],
      "metadata": {
        "id": "JOy7vWV6t7GG"
      },
      "execution_count": null,
      "outputs": []
    }
  ]
}